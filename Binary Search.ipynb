{
 "cells": [
  {
   "cell_type": "code",
   "execution_count": 79,
   "id": "apart-monitoring",
   "metadata": {},
   "outputs": [],
   "source": [
    "import random\n",
    "import bisect\n",
    "import time"
   ]
  },
  {
   "cell_type": "code",
   "execution_count": 77,
   "id": "everyday-medium",
   "metadata": {},
   "outputs": [],
   "source": [
    "def generate_problem(n):\n",
    "    return random.sample(range(-2**31,2**31),n),random.randint(-2**31,2**31)"
   ]
  },
  {
   "cell_type": "code",
   "execution_count": 35,
   "id": "southern-baseline",
   "metadata": {},
   "outputs": [],
   "source": [
    "def binary_search_biselect(nums,target):\n",
    "    lidx = bisect.bisect_left(nums,target)\n",
    "    ridx = bisect.bisect_left(nums,target+1)\n",
    "    return -1 if lidx==ridx else lidx"
   ]
  },
  {
   "cell_type": "code",
   "execution_count": 58,
   "id": "electoral-stations",
   "metadata": {},
   "outputs": [],
   "source": [
    "def binary_search_iterative(nums,target):\n",
    "    low,high = 0,len(nums)-1\n",
    "    while low<=high:\n",
    "        mid = (high+low)//2\n",
    "        if nums[mid]<target:\n",
    "            low = mid+1\n",
    "        elif nums[mid]>target:\n",
    "            high = mid-1\n",
    "        else:\n",
    "            return mid\n",
    "    return -1"
   ]
  },
  {
   "cell_type": "code",
   "execution_count": 40,
   "id": "international-tuition",
   "metadata": {},
   "outputs": [],
   "source": [
    "def binary_search_recursive(nums,low,high,target):\n",
    "    if low<=high:\n",
    "        mid = (high+low)//2\n",
    "        if nums[mid]>target:\n",
    "            return binary_search_recursive(nums,low,mid-1,target)\n",
    "        elif nums[mid]<target:\n",
    "            return binary_search_recursive(nums,mid+1,high,target)\n",
    "        else:\n",
    "            return mid\n",
    "    else:\n",
    "        return - 1\n",
    "\n",
    "        "
   ]
  },
  {
   "cell_type": "code",
   "execution_count": null,
   "id": "alpha-duncan",
   "metadata": {},
   "outputs": [],
   "source": [
    "start = time.time()\n",
    "for i in range(1000000):\n",
    "    nums,target = generate_problem(random.randint(-2**31,2**31))\n",
    "    binary_search_biselect(nums,target)\n",
    "end = time.time()\n",
    "\n",
    "print((end-start)/1000000)\n"
   ]
  },
  {
   "cell_type": "code",
   "execution_count": null,
   "id": "adolescent-bridge",
   "metadata": {},
   "outputs": [],
   "source": [
    "start = time.time()\n",
    "for i in range(1000000):\n",
    "    nums,target = generate_problem(random.randint(-2**31,2**31))\n",
    "    binary_search_iterative(nums,target)\n",
    "end = time.time()\n",
    "\n",
    "print((end-start)/1000000)\n"
   ]
  },
  {
   "cell_type": "code",
   "execution_count": null,
   "id": "alpine-seller",
   "metadata": {},
   "outputs": [],
   "source": [
    "start = time.time()\n",
    "for i in range(1000000):\n",
    "    nums,target = generate_problem(random.randint(-2**31,2**31))\n",
    "    binary_search_recursive(nums,0,len(nums),target)\n",
    "end = time.time()\n",
    "\n",
    "print((end-start)/1000000)\n"
   ]
  },
  {
   "cell_type": "code",
   "execution_count": null,
   "id": "german-progressive",
   "metadata": {},
   "outputs": [],
   "source": [
    "%timeit binary_search_biselect(nums,target)\n",
    "%timeit binary_search_iterative(nums,target)\n",
    "%timeit binary_search_recursive(nums,0,len(nums),target)"
   ]
  },
  {
   "cell_type": "code",
   "execution_count": null,
   "id": "announced-rates",
   "metadata": {},
   "outputs": [],
   "source": []
  }
 ],
 "metadata": {
  "kernelspec": {
   "display_name": "Python 3",
   "language": "python",
   "name": "python3"
  },
  "language_info": {
   "codemirror_mode": {
    "name": "ipython",
    "version": 3
   },
   "file_extension": ".py",
   "mimetype": "text/x-python",
   "name": "python",
   "nbconvert_exporter": "python",
   "pygments_lexer": "ipython3",
   "version": "3.9.2"
  }
 },
 "nbformat": 4,
 "nbformat_minor": 5
}
