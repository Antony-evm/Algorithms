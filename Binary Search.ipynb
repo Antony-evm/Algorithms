{
 "cells": [
  {
   "cell_type": "markdown",
   "id": "average-worth",
   "metadata": {},
   "source": [
    "## Binary Search\n",
    "\n",
    "Binary search is an efficient algorithm for finding an item from a sorted list of items. It works by repeatedly dividing in half the portion of the list that could contain the item, until you've narrowed down the possible locations to just one.\n",
    "\n",
    "A binary search algorithm works on the idea of neglecting half of the list on every iteration. It keeps on splitting the list until it finds the value it is looking for in a given list. A binary search algorithm is a quick upgrade to a simple linear search algorithm. \n",
    "\n",
    "The time complexity of the binary search algorithm is O(log n).\n",
    "The best-case time complexity would be O(1) when the central index would directly match the desired value.\n",
    "The worst-case scenario could be the values at either extremity of the list or values not in the list. \n",
    "\n",
    "There are two ways of implementing it:\n",
    "```\n",
    "Iterative method: Space complexity O(1)\n",
    "Recursive method: Space complexity O(log n)\n",
    "```"
   ]
  },
  {
   "cell_type": "code",
   "execution_count": 1,
   "id": "expensive-power",
   "metadata": {},
   "outputs": [
    {
     "data": {
      "application/javascript": [
       "\n",
       "            setTimeout(function() {\n",
       "                var nbb_cell_id = 1;\n",
       "                var nbb_unformatted_code = \"%load_ext nb_black\";\n",
       "                var nbb_formatted_code = \"%load_ext nb_black\";\n",
       "                var nbb_cells = Jupyter.notebook.get_cells();\n",
       "                for (var i = 0; i < nbb_cells.length; ++i) {\n",
       "                    if (nbb_cells[i].input_prompt_number == nbb_cell_id) {\n",
       "                        if (nbb_cells[i].get_text() == nbb_unformatted_code) {\n",
       "                             nbb_cells[i].set_text(nbb_formatted_code);\n",
       "                        }\n",
       "                        break;\n",
       "                    }\n",
       "                }\n",
       "            }, 500);\n",
       "            "
      ],
      "text/plain": [
       "<IPython.core.display.Javascript object>"
      ]
     },
     "metadata": {},
     "output_type": "display_data"
    }
   ],
   "source": [
    "%load_ext nb_black"
   ]
  },
  {
   "cell_type": "code",
   "execution_count": 2,
   "id": "convenient-county",
   "metadata": {},
   "outputs": [
    {
     "data": {
      "application/javascript": [
       "\n",
       "            setTimeout(function() {\n",
       "                var nbb_cell_id = 2;\n",
       "                var nbb_unformatted_code = \"import random\\nimport bisect\\nimport time\";\n",
       "                var nbb_formatted_code = \"import random\\nimport bisect\\nimport time\";\n",
       "                var nbb_cells = Jupyter.notebook.get_cells();\n",
       "                for (var i = 0; i < nbb_cells.length; ++i) {\n",
       "                    if (nbb_cells[i].input_prompt_number == nbb_cell_id) {\n",
       "                        if (nbb_cells[i].get_text() == nbb_unformatted_code) {\n",
       "                             nbb_cells[i].set_text(nbb_formatted_code);\n",
       "                        }\n",
       "                        break;\n",
       "                    }\n",
       "                }\n",
       "            }, 500);\n",
       "            "
      ],
      "text/plain": [
       "<IPython.core.display.Javascript object>"
      ]
     },
     "metadata": {},
     "output_type": "display_data"
    }
   ],
   "source": [
    "import random\n",
    "import bisect\n",
    "import time"
   ]
  },
  {
   "cell_type": "code",
   "execution_count": 3,
   "id": "divine-lotus",
   "metadata": {},
   "outputs": [
    {
     "data": {
      "application/javascript": [
       "\n",
       "            setTimeout(function() {\n",
       "                var nbb_cell_id = 3;\n",
       "                var nbb_unformatted_code = \"def generate_problem(n):\\n    return sorted(random.sample(range(-2**16,2**16),n)),random.randint(-2**16,2**16)\";\n",
       "                var nbb_formatted_code = \"def generate_problem(n):\\n    return sorted(random.sample(range(-(2**16), 2**16), n)), random.randint(\\n        -(2**16), 2**16\\n    )\";\n",
       "                var nbb_cells = Jupyter.notebook.get_cells();\n",
       "                for (var i = 0; i < nbb_cells.length; ++i) {\n",
       "                    if (nbb_cells[i].input_prompt_number == nbb_cell_id) {\n",
       "                        if (nbb_cells[i].get_text() == nbb_unformatted_code) {\n",
       "                             nbb_cells[i].set_text(nbb_formatted_code);\n",
       "                        }\n",
       "                        break;\n",
       "                    }\n",
       "                }\n",
       "            }, 500);\n",
       "            "
      ],
      "text/plain": [
       "<IPython.core.display.Javascript object>"
      ]
     },
     "metadata": {},
     "output_type": "display_data"
    }
   ],
   "source": [
    "def generate_problem(n):\n",
    "    return sorted(random.sample(range(-(2**16), 2**16), n)), random.randint(\n",
    "        -(2**16), 2**16\n",
    "    )"
   ]
  },
  {
   "cell_type": "code",
   "execution_count": 4,
   "id": "pediatric-macedonia",
   "metadata": {},
   "outputs": [
    {
     "data": {
      "application/javascript": [
       "\n",
       "            setTimeout(function() {\n",
       "                var nbb_cell_id = 4;\n",
       "                var nbb_unformatted_code = \"def binary_search_biselect(nums,target):\\n    lidx = bisect.bisect_left(nums,target)\\n    ridx = bisect.bisect_left(nums,target+1)\\n    return -1 if lidx==ridx else lidx\";\n",
       "                var nbb_formatted_code = \"def binary_search_biselect(nums, target):\\n    lidx = bisect.bisect_left(nums, target)\\n    ridx = bisect.bisect_left(nums, target + 1)\\n    return -1 if lidx == ridx else lidx\";\n",
       "                var nbb_cells = Jupyter.notebook.get_cells();\n",
       "                for (var i = 0; i < nbb_cells.length; ++i) {\n",
       "                    if (nbb_cells[i].input_prompt_number == nbb_cell_id) {\n",
       "                        if (nbb_cells[i].get_text() == nbb_unformatted_code) {\n",
       "                             nbb_cells[i].set_text(nbb_formatted_code);\n",
       "                        }\n",
       "                        break;\n",
       "                    }\n",
       "                }\n",
       "            }, 500);\n",
       "            "
      ],
      "text/plain": [
       "<IPython.core.display.Javascript object>"
      ]
     },
     "metadata": {},
     "output_type": "display_data"
    }
   ],
   "source": [
    "def binary_search_biselect(nums, target):\n",
    "    lidx = bisect.bisect_left(nums, target)\n",
    "    ridx = bisect.bisect_left(nums, target + 1)\n",
    "    return -1 if lidx == ridx else lidx"
   ]
  },
  {
   "cell_type": "code",
   "execution_count": 5,
   "id": "accredited-homework",
   "metadata": {},
   "outputs": [
    {
     "data": {
      "application/javascript": [
       "\n",
       "            setTimeout(function() {\n",
       "                var nbb_cell_id = 5;\n",
       "                var nbb_unformatted_code = \"def binary_search_iterative(nums,target):\\n    low,high = 0,len(nums)-1\\n    while low<=high:\\n        mid = (high+low)//2\\n        if nums[mid]<target:\\n            low = mid+1\\n        elif nums[mid]>target:\\n            high = mid-1\\n        else:\\n            return mid\\n    return -1\";\n",
       "                var nbb_formatted_code = \"def binary_search_iterative(nums, target):\\n    low, high = 0, len(nums) - 1\\n    while low <= high:\\n        mid = (high + low) // 2\\n        if nums[mid] < target:\\n            low = mid + 1\\n        elif nums[mid] > target:\\n            high = mid - 1\\n        else:\\n            return mid\\n    return -1\";\n",
       "                var nbb_cells = Jupyter.notebook.get_cells();\n",
       "                for (var i = 0; i < nbb_cells.length; ++i) {\n",
       "                    if (nbb_cells[i].input_prompt_number == nbb_cell_id) {\n",
       "                        if (nbb_cells[i].get_text() == nbb_unformatted_code) {\n",
       "                             nbb_cells[i].set_text(nbb_formatted_code);\n",
       "                        }\n",
       "                        break;\n",
       "                    }\n",
       "                }\n",
       "            }, 500);\n",
       "            "
      ],
      "text/plain": [
       "<IPython.core.display.Javascript object>"
      ]
     },
     "metadata": {},
     "output_type": "display_data"
    }
   ],
   "source": [
    "def binary_search_iterative(nums, target):\n",
    "    low, high = 0, len(nums) - 1\n",
    "    while low <= high:\n",
    "        mid = (high + low) // 2\n",
    "        if nums[mid] < target:\n",
    "            low = mid + 1\n",
    "        elif nums[mid] > target:\n",
    "            high = mid - 1\n",
    "        else:\n",
    "            return mid\n",
    "    return -1"
   ]
  },
  {
   "cell_type": "code",
   "execution_count": 6,
   "id": "amazing-sharp",
   "metadata": {},
   "outputs": [
    {
     "data": {
      "application/javascript": [
       "\n",
       "            setTimeout(function() {\n",
       "                var nbb_cell_id = 6;\n",
       "                var nbb_unformatted_code = \"def binary_search_recursive(nums,low,high,target):\\n    if low<=high:\\n        mid = (high+low)//2\\n        if nums[mid]>target:\\n            return binary_search_recursive(nums,low,mid-1,target)\\n        elif nums[mid]<target:\\n            return binary_search_recursive(nums,mid+1,high,target)\\n        else:\\n            return mid\\n    else:\\n        return - 1\\n\\n        \";\n",
       "                var nbb_formatted_code = \"def binary_search_recursive(nums, low, high, target):\\n    if low <= high:\\n        mid = (high + low) // 2\\n        if nums[mid] > target:\\n            return binary_search_recursive(nums, low, mid - 1, target)\\n        elif nums[mid] < target:\\n            return binary_search_recursive(nums, mid + 1, high, target)\\n        else:\\n            return mid\\n    else:\\n        return -1\";\n",
       "                var nbb_cells = Jupyter.notebook.get_cells();\n",
       "                for (var i = 0; i < nbb_cells.length; ++i) {\n",
       "                    if (nbb_cells[i].input_prompt_number == nbb_cell_id) {\n",
       "                        if (nbb_cells[i].get_text() == nbb_unformatted_code) {\n",
       "                             nbb_cells[i].set_text(nbb_formatted_code);\n",
       "                        }\n",
       "                        break;\n",
       "                    }\n",
       "                }\n",
       "            }, 500);\n",
       "            "
      ],
      "text/plain": [
       "<IPython.core.display.Javascript object>"
      ]
     },
     "metadata": {},
     "output_type": "display_data"
    }
   ],
   "source": [
    "def binary_search_recursive(nums, low, high, target):\n",
    "    if low <= high:\n",
    "        mid = (high + low) // 2\n",
    "        if nums[mid] > target:\n",
    "            return binary_search_recursive(nums, low, mid - 1, target)\n",
    "        elif nums[mid] < target:\n",
    "            return binary_search_recursive(nums, mid + 1, high, target)\n",
    "        else:\n",
    "            return mid\n",
    "    else:\n",
    "        return -1"
   ]
  },
  {
   "cell_type": "code",
   "execution_count": 7,
   "id": "elder-breeding",
   "metadata": {},
   "outputs": [
    {
     "name": "stdout",
     "output_type": "stream",
     "text": [
      "-1\n",
      "-1\n",
      "-1\n"
     ]
    },
    {
     "data": {
      "application/javascript": [
       "\n",
       "            setTimeout(function() {\n",
       "                var nbb_cell_id = 7;\n",
       "                var nbb_unformatted_code = \"nums,target = generate_problem(100000)\\nprint(binary_search_biselect(nums,target))\\nprint(binary_search_iterative(nums,target))\\nprint(binary_search_recursive(nums,0,len(nums)-1,target))\";\n",
       "                var nbb_formatted_code = \"nums, target = generate_problem(100000)\\nprint(binary_search_biselect(nums, target))\\nprint(binary_search_iterative(nums, target))\\nprint(binary_search_recursive(nums, 0, len(nums) - 1, target))\";\n",
       "                var nbb_cells = Jupyter.notebook.get_cells();\n",
       "                for (var i = 0; i < nbb_cells.length; ++i) {\n",
       "                    if (nbb_cells[i].input_prompt_number == nbb_cell_id) {\n",
       "                        if (nbb_cells[i].get_text() == nbb_unformatted_code) {\n",
       "                             nbb_cells[i].set_text(nbb_formatted_code);\n",
       "                        }\n",
       "                        break;\n",
       "                    }\n",
       "                }\n",
       "            }, 500);\n",
       "            "
      ],
      "text/plain": [
       "<IPython.core.display.Javascript object>"
      ]
     },
     "metadata": {},
     "output_type": "display_data"
    }
   ],
   "source": [
    "nums, target = generate_problem(100000)\n",
    "print(binary_search_biselect(nums, target))\n",
    "print(binary_search_iterative(nums, target))\n",
    "print(binary_search_recursive(nums, 0, len(nums) - 1, target))"
   ]
  },
  {
   "cell_type": "code",
   "execution_count": 8,
   "id": "funny-creator",
   "metadata": {},
   "outputs": [
    {
     "data": {
      "text/plain": [
       "(False, -33041)"
      ]
     },
     "execution_count": 8,
     "metadata": {},
     "output_type": "execute_result"
    },
    {
     "data": {
      "application/javascript": [
       "\n",
       "            setTimeout(function() {\n",
       "                var nbb_cell_id = 8;\n",
       "                var nbb_unformatted_code = \"target == nums[75185],target\";\n",
       "                var nbb_formatted_code = \"target == nums[75185], target\";\n",
       "                var nbb_cells = Jupyter.notebook.get_cells();\n",
       "                for (var i = 0; i < nbb_cells.length; ++i) {\n",
       "                    if (nbb_cells[i].input_prompt_number == nbb_cell_id) {\n",
       "                        if (nbb_cells[i].get_text() == nbb_unformatted_code) {\n",
       "                             nbb_cells[i].set_text(nbb_formatted_code);\n",
       "                        }\n",
       "                        break;\n",
       "                    }\n",
       "                }\n",
       "            }, 500);\n",
       "            "
      ],
      "text/plain": [
       "<IPython.core.display.Javascript object>"
      ]
     },
     "metadata": {},
     "output_type": "display_data"
    }
   ],
   "source": [
    "target == nums[75185], target"
   ]
  },
  {
   "cell_type": "code",
   "execution_count": 9,
   "id": "cooperative-sacramento",
   "metadata": {
    "scrolled": true
   },
   "outputs": [
    {
     "name": "stdout",
     "output_type": "stream",
     "text": [
      "603 ns ± 19.1 ns per loop (mean ± std. dev. of 7 runs, 1000000 loops each)\n",
      "1.42 µs ± 60.8 ns per loop (mean ± std. dev. of 7 runs, 1000000 loops each)\n",
      "2.16 µs ± 85.4 ns per loop (mean ± std. dev. of 7 runs, 100000 loops each)\n"
     ]
    },
    {
     "data": {
      "application/javascript": [
       "\n",
       "            setTimeout(function() {\n",
       "                var nbb_cell_id = 9;\n",
       "                var nbb_unformatted_code = \"nums,target = generate_problem(100000)\\n%timeit binary_search_biselect(nums,target)\\n%timeit binary_search_iterative(nums,target)\\n%timeit binary_search_recursive(nums,0,len(nums)-1,target)\";\n",
       "                var nbb_formatted_code = \"nums, target = generate_problem(100000)\\n%timeit binary_search_biselect(nums,target)\\n%timeit binary_search_iterative(nums,target)\\n%timeit binary_search_recursive(nums,0,len(nums)-1,target)\";\n",
       "                var nbb_cells = Jupyter.notebook.get_cells();\n",
       "                for (var i = 0; i < nbb_cells.length; ++i) {\n",
       "                    if (nbb_cells[i].input_prompt_number == nbb_cell_id) {\n",
       "                        if (nbb_cells[i].get_text() == nbb_unformatted_code) {\n",
       "                             nbb_cells[i].set_text(nbb_formatted_code);\n",
       "                        }\n",
       "                        break;\n",
       "                    }\n",
       "                }\n",
       "            }, 500);\n",
       "            "
      ],
      "text/plain": [
       "<IPython.core.display.Javascript object>"
      ]
     },
     "metadata": {},
     "output_type": "display_data"
    }
   ],
   "source": [
    "nums, target = generate_problem(100000)\n",
    "%timeit binary_search_biselect(nums,target)\n",
    "%timeit binary_search_iterative(nums,target)\n",
    "%timeit binary_search_recursive(nums,0,len(nums)-1,target)"
   ]
  }
 ],
 "metadata": {
  "kernelspec": {
   "display_name": "Python 3",
   "language": "python",
   "name": "python3"
  },
  "language_info": {
   "codemirror_mode": {
    "name": "ipython",
    "version": 3
   },
   "file_extension": ".py",
   "mimetype": "text/x-python",
   "name": "python",
   "nbconvert_exporter": "python",
   "pygments_lexer": "ipython3",
   "version": "3.9.2"
  }
 },
 "nbformat": 4,
 "nbformat_minor": 5
}
