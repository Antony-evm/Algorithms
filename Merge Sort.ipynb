{
 "cells": [
  {
   "cell_type": "markdown",
   "id": "parallel-china",
   "metadata": {},
   "source": [
    "## Merge Sort\n",
    "\n",
    "The “Merge Sort”  uses a recursive algorithm to achieve its results. The divide-and-conquer algorithm breaks down a big problem into smaller, more manageable pieces that look similar to the initial problem. It then solves these subproblems recursively and puts their solutions together to solve the original problem. Merge sort continuously cuts down a list into multiple sublists until each has only one item, then merges those sublists into a sorted list.\n",
    "\n",
    "There are two approaches:\n",
    "```\n",
    "1. Top down approach\n",
    "It starts at the top and works its way down, splitting the array in half, making a recursive call, and merging the results until it reaches the bottom of the array tree.\n",
    "\n",
    "2. Bottom up approach\n",
    "The iterative technique is used in the Bottom-Up merge sort approach. It starts with a \"single-element\" array and then merges two nearby items while also sorting them. The combined-sorted arrays are merged and sorted again until only one single unit of the sorted array remains.\n",
    "```\n",
    "\n",
    "O(N) space complexity\n",
    "\n",
    "O(NlogN) time complexity\n",
    "\n",
    "\n",
    "\n"
   ]
  },
  {
   "cell_type": "code",
   "execution_count": 1,
   "id": "ignored-destruction",
   "metadata": {},
   "outputs": [
    {
     "data": {
      "application/javascript": [
       "\n",
       "            setTimeout(function() {\n",
       "                var nbb_cell_id = 1;\n",
       "                var nbb_unformatted_code = \"%load_ext nb_black\";\n",
       "                var nbb_formatted_code = \"%load_ext nb_black\";\n",
       "                var nbb_cells = Jupyter.notebook.get_cells();\n",
       "                for (var i = 0; i < nbb_cells.length; ++i) {\n",
       "                    if (nbb_cells[i].input_prompt_number == nbb_cell_id) {\n",
       "                        if (nbb_cells[i].get_text() == nbb_unformatted_code) {\n",
       "                             nbb_cells[i].set_text(nbb_formatted_code);\n",
       "                        }\n",
       "                        break;\n",
       "                    }\n",
       "                }\n",
       "            }, 500);\n",
       "            "
      ],
      "text/plain": [
       "<IPython.core.display.Javascript object>"
      ]
     },
     "metadata": {},
     "output_type": "display_data"
    }
   ],
   "source": [
    "%load_ext nb_black"
   ]
  },
  {
   "cell_type": "code",
   "execution_count": 2,
   "id": "naked-graph",
   "metadata": {},
   "outputs": [
    {
     "data": {
      "application/javascript": [
       "\n",
       "            setTimeout(function() {\n",
       "                var nbb_cell_id = 2;\n",
       "                var nbb_unformatted_code = \"import random\\ndef generate_problem(n):\\n    return random.sample(range(-2**16,2**16),n)\";\n",
       "                var nbb_formatted_code = \"import random\\n\\n\\ndef generate_problem(n):\\n    return random.sample(range(-(2**16), 2**16), n)\";\n",
       "                var nbb_cells = Jupyter.notebook.get_cells();\n",
       "                for (var i = 0; i < nbb_cells.length; ++i) {\n",
       "                    if (nbb_cells[i].input_prompt_number == nbb_cell_id) {\n",
       "                        if (nbb_cells[i].get_text() == nbb_unformatted_code) {\n",
       "                             nbb_cells[i].set_text(nbb_formatted_code);\n",
       "                        }\n",
       "                        break;\n",
       "                    }\n",
       "                }\n",
       "            }, 500);\n",
       "            "
      ],
      "text/plain": [
       "<IPython.core.display.Javascript object>"
      ]
     },
     "metadata": {},
     "output_type": "display_data"
    }
   ],
   "source": [
    "import random\n",
    "\n",
    "\n",
    "def generate_problem(n):\n",
    "    return random.sample(range(-(2**16), 2**16), n)"
   ]
  },
  {
   "cell_type": "code",
   "execution_count": 3,
   "id": "threatened-enzyme",
   "metadata": {},
   "outputs": [
    {
     "data": {
      "application/javascript": [
       "\n",
       "            setTimeout(function() {\n",
       "                var nbb_cell_id = 3;\n",
       "                var nbb_unformatted_code = \"def merge(arr, l, m, r):\\n    n1 = m - l + 1\\n    n2 = r - m\\n    L = [0] * (n1)\\n    R = [0] * (n2)\\n    \\n    for i in range(0, n1):\\n        L[i] = arr[l + i]\\n \\n    for j in range(0, n2):\\n        R[j] = arr[m + 1 + j]\\n \\n    i = 0\\n    j = 0\\n    k = l\\n \\n    while i < n1 and j < n2:\\n        if L[i] <= R[j]:\\n            arr[k] = L[i]\\n            i += 1\\n        else:\\n            arr[k] = R[j]\\n            j += 1\\n        k += 1\\n        \\n    while i < n1:\\n        arr[k] = L[i]\\n        i += 1\\n        k += 1\\n    while j < n2:\\n        arr[k] = R[j]\\n        j += 1\\n        k += 1\\n        \\ndef top_down_merge_sort(arr, l, r):\\n    if l < r:\\n        m = l+(r-l)//2\\n        top_down_merge_sort(arr, l, m)\\n        top_down_merge_sort(arr, m+1, r)\\n        merge(arr, l, m, r)\";\n",
       "                var nbb_formatted_code = \"def merge(arr, l, m, r):\\n    n1 = m - l + 1\\n    n2 = r - m\\n    L = [0] * (n1)\\n    R = [0] * (n2)\\n\\n    for i in range(0, n1):\\n        L[i] = arr[l + i]\\n\\n    for j in range(0, n2):\\n        R[j] = arr[m + 1 + j]\\n\\n    i = 0\\n    j = 0\\n    k = l\\n\\n    while i < n1 and j < n2:\\n        if L[i] <= R[j]:\\n            arr[k] = L[i]\\n            i += 1\\n        else:\\n            arr[k] = R[j]\\n            j += 1\\n        k += 1\\n\\n    while i < n1:\\n        arr[k] = L[i]\\n        i += 1\\n        k += 1\\n    while j < n2:\\n        arr[k] = R[j]\\n        j += 1\\n        k += 1\\n\\n\\ndef top_down_merge_sort(arr, l, r):\\n    if l < r:\\n        m = l + (r - l) // 2\\n        top_down_merge_sort(arr, l, m)\\n        top_down_merge_sort(arr, m + 1, r)\\n        merge(arr, l, m, r)\";\n",
       "                var nbb_cells = Jupyter.notebook.get_cells();\n",
       "                for (var i = 0; i < nbb_cells.length; ++i) {\n",
       "                    if (nbb_cells[i].input_prompt_number == nbb_cell_id) {\n",
       "                        if (nbb_cells[i].get_text() == nbb_unformatted_code) {\n",
       "                             nbb_cells[i].set_text(nbb_formatted_code);\n",
       "                        }\n",
       "                        break;\n",
       "                    }\n",
       "                }\n",
       "            }, 500);\n",
       "            "
      ],
      "text/plain": [
       "<IPython.core.display.Javascript object>"
      ]
     },
     "metadata": {},
     "output_type": "display_data"
    }
   ],
   "source": [
    "def merge(arr, l, m, r):\n",
    "    n1 = m - l + 1\n",
    "    n2 = r - m\n",
    "    L = [0] * (n1)\n",
    "    R = [0] * (n2)\n",
    "\n",
    "    for i in range(0, n1):\n",
    "        L[i] = arr[l + i]\n",
    "\n",
    "    for j in range(0, n2):\n",
    "        R[j] = arr[m + 1 + j]\n",
    "\n",
    "    i = 0\n",
    "    j = 0\n",
    "    k = l\n",
    "\n",
    "    while i < n1 and j < n2:\n",
    "        if L[i] <= R[j]:\n",
    "            arr[k] = L[i]\n",
    "            i += 1\n",
    "        else:\n",
    "            arr[k] = R[j]\n",
    "            j += 1\n",
    "        k += 1\n",
    "\n",
    "    while i < n1:\n",
    "        arr[k] = L[i]\n",
    "        i += 1\n",
    "        k += 1\n",
    "    while j < n2:\n",
    "        arr[k] = R[j]\n",
    "        j += 1\n",
    "        k += 1\n",
    "\n",
    "\n",
    "def top_down_merge_sort(arr, l, r):\n",
    "    if l < r:\n",
    "        m = l + (r - l) // 2\n",
    "        top_down_merge_sort(arr, l, m)\n",
    "        top_down_merge_sort(arr, m + 1, r)\n",
    "        merge(arr, l, m, r)"
   ]
  },
  {
   "cell_type": "code",
   "execution_count": 4,
   "id": "younger-alfred",
   "metadata": {},
   "outputs": [
    {
     "data": {
      "application/javascript": [
       "\n",
       "            setTimeout(function() {\n",
       "                var nbb_cell_id = 4;\n",
       "                var nbb_unformatted_code = \"def merge_iter(arr, temp, frm, mid, to):\\n \\n    k = frm\\n    i = frm\\n    j = mid + 1\\n    while i <= mid and j <= to:\\n        if arr[i] < arr[j]:\\n            temp[k] = arr[i]\\n            i = i + 1\\n        else:\\n            temp[k] = arr[j]\\n            j = j + 1\\n        k = k + 1\\n    \\n    while i < len(arr) and i <= mid:\\n        temp[k] = arr[i]\\n        k = k + 1\\n        i = i + 1\\n \\n    for i in range(frm, to + 1):\\n        arr[i] = temp[i]\\n \\n \\ndef bottom_up_merge_sort(arr):\\n    l = 0\\n    r = len(arr) - 1\\n    temp = arr.copy()\\n    m = 1\\n    while m <= r - l:\\n        for i in range(l, r, 2*m):\\n            frm = i\\n            mid = i + m - 1\\n            to = min(i + 2*m - 1, r)\\n            merge_iter(arr, temp, frm, mid, to)\\n        m = 2*m\\n \";\n",
       "                var nbb_formatted_code = \"def merge_iter(arr, temp, frm, mid, to):\\n    k = frm\\n    i = frm\\n    j = mid + 1\\n    while i <= mid and j <= to:\\n        if arr[i] < arr[j]:\\n            temp[k] = arr[i]\\n            i = i + 1\\n        else:\\n            temp[k] = arr[j]\\n            j = j + 1\\n        k = k + 1\\n\\n    while i < len(arr) and i <= mid:\\n        temp[k] = arr[i]\\n        k = k + 1\\n        i = i + 1\\n\\n    for i in range(frm, to + 1):\\n        arr[i] = temp[i]\\n\\n\\ndef bottom_up_merge_sort(arr):\\n    l = 0\\n    r = len(arr) - 1\\n    temp = arr.copy()\\n    m = 1\\n    while m <= r - l:\\n        for i in range(l, r, 2 * m):\\n            frm = i\\n            mid = i + m - 1\\n            to = min(i + 2 * m - 1, r)\\n            merge_iter(arr, temp, frm, mid, to)\\n        m = 2 * m\";\n",
       "                var nbb_cells = Jupyter.notebook.get_cells();\n",
       "                for (var i = 0; i < nbb_cells.length; ++i) {\n",
       "                    if (nbb_cells[i].input_prompt_number == nbb_cell_id) {\n",
       "                        if (nbb_cells[i].get_text() == nbb_unformatted_code) {\n",
       "                             nbb_cells[i].set_text(nbb_formatted_code);\n",
       "                        }\n",
       "                        break;\n",
       "                    }\n",
       "                }\n",
       "            }, 500);\n",
       "            "
      ],
      "text/plain": [
       "<IPython.core.display.Javascript object>"
      ]
     },
     "metadata": {},
     "output_type": "display_data"
    }
   ],
   "source": [
    "def merge_iter(arr, temp, frm, mid, to):\n",
    "    k = frm\n",
    "    i = frm\n",
    "    j = mid + 1\n",
    "    while i <= mid and j <= to:\n",
    "        if arr[i] < arr[j]:\n",
    "            temp[k] = arr[i]\n",
    "            i = i + 1\n",
    "        else:\n",
    "            temp[k] = arr[j]\n",
    "            j = j + 1\n",
    "        k = k + 1\n",
    "\n",
    "    while i < len(arr) and i <= mid:\n",
    "        temp[k] = arr[i]\n",
    "        k = k + 1\n",
    "        i = i + 1\n",
    "\n",
    "    for i in range(frm, to + 1):\n",
    "        arr[i] = temp[i]\n",
    "\n",
    "\n",
    "def bottom_up_merge_sort(arr):\n",
    "    l = 0\n",
    "    r = len(arr) - 1\n",
    "    temp = arr.copy()\n",
    "    m = 1\n",
    "    while m <= r - l:\n",
    "        for i in range(l, r, 2 * m):\n",
    "            frm = i\n",
    "            mid = i + m - 1\n",
    "            to = min(i + 2 * m - 1, r)\n",
    "            merge_iter(arr, temp, frm, mid, to)\n",
    "        m = 2 * m"
   ]
  },
  {
   "cell_type": "code",
   "execution_count": 5,
   "id": "alone-nylon",
   "metadata": {},
   "outputs": [
    {
     "name": "stdout",
     "output_type": "stream",
     "text": [
      "3.29 ms ± 163 µs per loop (mean ± std. dev. of 7 runs, 100 loops each)\n"
     ]
    },
    {
     "data": {
      "application/javascript": [
       "\n",
       "            setTimeout(function() {\n",
       "                var nbb_cell_id = 5;\n",
       "                var nbb_unformatted_code = \"%%timeit\\nnums = generate_problem(1000)\\nnums_sorted = nums.copy()\\ntop_down_merge_sort(nums,0,len(nums)-1)\\nassert nums == sorted(nums_sorted)\";\n",
       "                var nbb_formatted_code = \"%%timeit\\nnums = generate_problem(1000)\\nnums_sorted = nums.copy()\\ntop_down_merge_sort(nums,0,len(nums)-1)\\nassert nums == sorted(nums_sorted)\";\n",
       "                var nbb_cells = Jupyter.notebook.get_cells();\n",
       "                for (var i = 0; i < nbb_cells.length; ++i) {\n",
       "                    if (nbb_cells[i].input_prompt_number == nbb_cell_id) {\n",
       "                        if (nbb_cells[i].get_text() == nbb_unformatted_code) {\n",
       "                             nbb_cells[i].set_text(nbb_formatted_code);\n",
       "                        }\n",
       "                        break;\n",
       "                    }\n",
       "                }\n",
       "            }, 500);\n",
       "            "
      ],
      "text/plain": [
       "<IPython.core.display.Javascript object>"
      ]
     },
     "metadata": {},
     "output_type": "display_data"
    }
   ],
   "source": [
    "%%timeit\n",
    "nums = generate_problem(1000)\n",
    "nums_sorted = nums.copy()\n",
    "top_down_merge_sort(nums,0,len(nums)-1)\n",
    "assert nums == sorted(nums_sorted)"
   ]
  },
  {
   "cell_type": "code",
   "execution_count": 6,
   "id": "guided-malta",
   "metadata": {},
   "outputs": [
    {
     "name": "stdout",
     "output_type": "stream",
     "text": [
      "2.82 ms ± 85.4 µs per loop (mean ± std. dev. of 7 runs, 100 loops each)\n"
     ]
    },
    {
     "data": {
      "application/javascript": [
       "\n",
       "            setTimeout(function() {\n",
       "                var nbb_cell_id = 6;\n",
       "                var nbb_unformatted_code = \"%%timeit\\nnums = generate_problem(1000)\\nnums_sorted = nums.copy()\\nbottom_up_merge_sort(nums)\\nassert nums == sorted(nums_sorted)\";\n",
       "                var nbb_formatted_code = \"%%timeit\\nnums = generate_problem(1000)\\nnums_sorted = nums.copy()\\nbottom_up_merge_sort(nums)\\nassert nums == sorted(nums_sorted)\";\n",
       "                var nbb_cells = Jupyter.notebook.get_cells();\n",
       "                for (var i = 0; i < nbb_cells.length; ++i) {\n",
       "                    if (nbb_cells[i].input_prompt_number == nbb_cell_id) {\n",
       "                        if (nbb_cells[i].get_text() == nbb_unformatted_code) {\n",
       "                             nbb_cells[i].set_text(nbb_formatted_code);\n",
       "                        }\n",
       "                        break;\n",
       "                    }\n",
       "                }\n",
       "            }, 500);\n",
       "            "
      ],
      "text/plain": [
       "<IPython.core.display.Javascript object>"
      ]
     },
     "metadata": {},
     "output_type": "display_data"
    }
   ],
   "source": [
    "%%timeit\n",
    "nums = generate_problem(1000)\n",
    "nums_sorted = nums.copy()\n",
    "bottom_up_merge_sort(nums)\n",
    "assert nums == sorted(nums_sorted)"
   ]
  }
 ],
 "metadata": {
  "kernelspec": {
   "display_name": "Python 3",
   "language": "python",
   "name": "python3"
  },
  "language_info": {
   "codemirror_mode": {
    "name": "ipython",
    "version": 3
   },
   "file_extension": ".py",
   "mimetype": "text/x-python",
   "name": "python",
   "nbconvert_exporter": "python",
   "pygments_lexer": "ipython3",
   "version": "3.9.2"
  }
 },
 "nbformat": 4,
 "nbformat_minor": 5
}
