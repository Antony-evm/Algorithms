{
 "cells": [
  {
   "cell_type": "code",
   "execution_count": 1,
   "id": "convenient-county",
   "metadata": {},
   "outputs": [],
   "source": [
    "import random\n",
    "import bisect\n",
    "import time"
   ]
  },
  {
   "cell_type": "code",
   "execution_count": 2,
   "id": "divine-lotus",
   "metadata": {},
   "outputs": [],
   "source": [
    "def generate_problem(n):\n",
    "    return random.sample(range(-2**16,2**16),n),random.randint(-2**16,2**16)"
   ]
  },
  {
   "cell_type": "code",
   "execution_count": 3,
   "id": "pediatric-macedonia",
   "metadata": {},
   "outputs": [],
   "source": [
    "def binary_search_biselect(nums,target):\n",
    "    lidx = bisect.bisect_left(nums,target)\n",
    "    ridx = bisect.bisect_left(nums,target+1)\n",
    "    return -1 if lidx==ridx else lidx"
   ]
  },
  {
   "cell_type": "code",
   "execution_count": 4,
   "id": "accredited-homework",
   "metadata": {},
   "outputs": [],
   "source": [
    "def binary_search_iterative(nums,target):\n",
    "    low,high = 0,len(nums)-1\n",
    "    while low<=high:\n",
    "        mid = (high+low)//2\n",
    "        if nums[mid]<target:\n",
    "            low = mid+1\n",
    "        elif nums[mid]>target:\n",
    "            high = mid-1\n",
    "        else:\n",
    "            return mid\n",
    "    return -1"
   ]
  },
  {
   "cell_type": "code",
   "execution_count": 5,
   "id": "amazing-sharp",
   "metadata": {},
   "outputs": [],
   "source": [
    "def binary_search_recursive(nums,low,high,target):\n",
    "    if low<=high:\n",
    "        mid = (high+low)//2\n",
    "        if nums[mid]>target:\n",
    "            return binary_search_recursive(nums,low,mid-1,target)\n",
    "        elif nums[mid]<target:\n",
    "            return binary_search_recursive(nums,mid+1,high,target)\n",
    "        else:\n",
    "            return mid\n",
    "    else:\n",
    "        return - 1\n",
    "\n",
    "        "
   ]
  },
  {
   "cell_type": "code",
   "execution_count": 6,
   "id": "cooperative-sacramento",
   "metadata": {},
   "outputs": [
    {
     "name": "stdout",
     "output_type": "stream",
     "text": [
      "926 ns ± 34.5 ns per loop (mean ± std. dev. of 7 runs, 1000000 loops each)\n",
      "2.67 µs ± 87.1 ns per loop (mean ± std. dev. of 7 runs, 100000 loops each)\n",
      "3.62 µs ± 97.9 ns per loop (mean ± std. dev. of 7 runs, 100000 loops each)\n"
     ]
    }
   ],
   "source": [
    "nums,target = generate_problem(100000)\n",
    "%timeit binary_search_biselect(nums,target)\n",
    "%timeit binary_search_iterative(nums,target)\n",
    "%timeit binary_search_recursive(nums,0,len(nums)-1,target)"
   ]
  }
 ],
 "metadata": {
  "kernelspec": {
   "display_name": "Python 3",
   "language": "python",
   "name": "python3"
  },
  "language_info": {
   "codemirror_mode": {
    "name": "ipython",
    "version": 3
   },
   "file_extension": ".py",
   "mimetype": "text/x-python",
   "name": "python",
   "nbconvert_exporter": "python",
   "pygments_lexer": "ipython3",
   "version": "3.9.2"
  }
 },
 "nbformat": 4,
 "nbformat_minor": 5
}
