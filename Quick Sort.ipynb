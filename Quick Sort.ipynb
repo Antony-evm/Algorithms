{
 "cells": [
  {
   "cell_type": "markdown",
   "id": "comparative-clearing",
   "metadata": {},
   "source": [
    "## Quick Sort\n",
    "\n",
    "Quicksort is a fast sorting algorithm that works by splitting a large array of data into smaller sub-arrays. This implies that each iteration works by splitting the input into two components, sorting them, and then recombining them. \n",
    "\n",
    "As a result, the quick sort method can be summarized in three steps:\n",
    "```\n",
    "Pick: Select an element.\n",
    "Divide: Split the problem set, move smaller parts to the left of the pivot and larger items to the right.\n",
    "Repeat and combine: Repeat the steps and combine the arrays that have previously been sorted.\n",
    "```\n",
    "\n",
    "Benefits of QuickSort\n",
    "```\n",
    "It works rapidly and effectively.\n",
    "It has the best time complexity when compared to other sorting algorithms.\n",
    "Quick sort has a space complexity of O(logn), making it an excellent choice for situations when space is limited.\n",
    "```\n",
    "\n",
    "Drawbacks of QuickSort\n",
    "```\n",
    "This sorting technique is considered unstable since it does not maintain the key-value pairs initial order.\n",
    "When the pivot element is the largest or smallest, or when all of the components have the same size. The performance of the quicksort is significantly impacted by these worst-case scenarios.\n",
    "It’s difficult to implement since it’s a recursive process, especially if recursion isn’t available.\n",
    "```"
   ]
  },
  {
   "cell_type": "code",
   "execution_count": 1,
   "id": "amended-gravity",
   "metadata": {},
   "outputs": [],
   "source": [
    "import random\n",
    "def generate_problem(n):\n",
    "    return random.sample(range(-2**16,2**16),n)"
   ]
  },
  {
   "cell_type": "code",
   "execution_count": 2,
   "id": "sporting-advocacy",
   "metadata": {},
   "outputs": [],
   "source": [
    "def partition(array, low, high):\n",
    "    pivot = array[high]\n",
    "    i = low - 1\n",
    "    for j in range(low, high):\n",
    "        if array[j] <= pivot:\n",
    "            i = i + 1\n",
    "            (array[i], array[j]) = (array[j], array[i])\n",
    "    (array[i + 1], array[high]) = (array[high], array[i + 1])\n",
    "    return i + 1\n",
    "\n",
    "def quickSort(array, low, high):\n",
    "    if low < high:\n",
    "        pi = partition(array, low, high)\n",
    "        quickSort(array, low, pi - 1)\n",
    "        quickSort(array, pi + 1, high)"
   ]
  },
  {
   "cell_type": "code",
   "execution_count": 3,
   "id": "narrow-conditioning",
   "metadata": {},
   "outputs": [
    {
     "name": "stdout",
     "output_type": "stream",
     "text": [
      "2.33 ms ± 168 µs per loop (mean ± std. dev. of 7 runs, 100 loops each)\n"
     ]
    }
   ],
   "source": [
    "%%timeit\n",
    "nums = generate_problem(1000)\n",
    "nums_sorted = nums.copy()\n",
    "nums_sorted.sort()\n",
    "quickSort(nums,0,len(nums)-1)\n",
    "assert nums == nums_sorted"
   ]
  },
  {
   "cell_type": "code",
   "execution_count": null,
   "id": "located-recycling",
   "metadata": {},
   "outputs": [],
   "source": []
  }
 ],
 "metadata": {
  "kernelspec": {
   "display_name": "Python 3",
   "language": "python",
   "name": "python3"
  },
  "language_info": {
   "codemirror_mode": {
    "name": "ipython",
    "version": 3
   },
   "file_extension": ".py",
   "mimetype": "text/x-python",
   "name": "python",
   "nbconvert_exporter": "python",
   "pygments_lexer": "ipython3",
   "version": "3.9.2"
  }
 },
 "nbformat": 4,
 "nbformat_minor": 5
}
