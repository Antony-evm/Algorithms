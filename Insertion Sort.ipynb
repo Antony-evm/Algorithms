{
 "cells": [
  {
   "cell_type": "markdown",
   "id": "another-hours",
   "metadata": {},
   "source": [
    "## Insertion Sort\n",
    "\n",
    "Insertion sort is a simple sorting algorithm that builds the final sorted array (or list) one item at a time by comparisons.\n",
    "Insertion sort iterates, consuming one input element each repetition, and grows a sorted output list. At each iteration, insertion sort removes one element from the input data, finds the location it belongs within the sorted list, and inserts it there. It repeats until no input elements remain.\n",
    "\n",
    "```\n",
    "Worst-case performance $O(n^{2})$ comparisons and swaps - Items sorted in reverse order\n",
    "Best-case performance $O(n)$ comparisons, $O(1)$ swaps - Items already sorted\n",
    "Average performance\t$O(n^{2})$ comparisons and swaps\n",
    "Worst-case space complexity $O(n)$ total, O(1) auxiliary\n",
    "```"
   ]
  },
  {
   "cell_type": "code",
   "execution_count": 1,
   "id": "sharing-metabolism",
   "metadata": {},
   "outputs": [
    {
     "data": {
      "application/javascript": [
       "\n",
       "            setTimeout(function() {\n",
       "                var nbb_cell_id = 1;\n",
       "                var nbb_unformatted_code = \"%load_ext nb_black\";\n",
       "                var nbb_formatted_code = \"%load_ext nb_black\";\n",
       "                var nbb_cells = Jupyter.notebook.get_cells();\n",
       "                for (var i = 0; i < nbb_cells.length; ++i) {\n",
       "                    if (nbb_cells[i].input_prompt_number == nbb_cell_id) {\n",
       "                        if (nbb_cells[i].get_text() == nbb_unformatted_code) {\n",
       "                             nbb_cells[i].set_text(nbb_formatted_code);\n",
       "                        }\n",
       "                        break;\n",
       "                    }\n",
       "                }\n",
       "            }, 500);\n",
       "            "
      ],
      "text/plain": [
       "<IPython.core.display.Javascript object>"
      ]
     },
     "metadata": {},
     "output_type": "display_data"
    }
   ],
   "source": [
    "%load_ext nb_black"
   ]
  },
  {
   "cell_type": "code",
   "execution_count": 2,
   "id": "objective-forum",
   "metadata": {},
   "outputs": [
    {
     "data": {
      "application/javascript": [
       "\n",
       "            setTimeout(function() {\n",
       "                var nbb_cell_id = 2;\n",
       "                var nbb_unformatted_code = \"import random\\nimport bisect\\nimport time\\ndef generate_problem(n):\\n    return random.sample(range(-2**16,2**16),n)\";\n",
       "                var nbb_formatted_code = \"import random\\nimport bisect\\nimport time\\n\\n\\ndef generate_problem(n):\\n    return random.sample(range(-(2**16), 2**16), n)\";\n",
       "                var nbb_cells = Jupyter.notebook.get_cells();\n",
       "                for (var i = 0; i < nbb_cells.length; ++i) {\n",
       "                    if (nbb_cells[i].input_prompt_number == nbb_cell_id) {\n",
       "                        if (nbb_cells[i].get_text() == nbb_unformatted_code) {\n",
       "                             nbb_cells[i].set_text(nbb_formatted_code);\n",
       "                        }\n",
       "                        break;\n",
       "                    }\n",
       "                }\n",
       "            }, 500);\n",
       "            "
      ],
      "text/plain": [
       "<IPython.core.display.Javascript object>"
      ]
     },
     "metadata": {},
     "output_type": "display_data"
    }
   ],
   "source": [
    "import random\n",
    "import bisect\n",
    "import time\n",
    "\n",
    "\n",
    "def generate_problem(n):\n",
    "    return random.sample(range(-(2**16), 2**16), n)"
   ]
  },
  {
   "cell_type": "code",
   "execution_count": 3,
   "id": "reserved-google",
   "metadata": {},
   "outputs": [
    {
     "data": {
      "application/javascript": [
       "\n",
       "            setTimeout(function() {\n",
       "                var nbb_cell_id = 3;\n",
       "                var nbb_unformatted_code = \"def insertion_sort(arr):\\n    length = len(arr)\\n    for i in range(1,length):\\n        key = arr[i]\\n        j = i-1\\n        while j >=0 and key<arr[j]:\\n            arr[j+1] = arr[j]\\n            j -= 1\\n        arr[j+1] = key\\n    return arr\";\n",
       "                var nbb_formatted_code = \"def insertion_sort(arr):\\n    length = len(arr)\\n    for i in range(1, length):\\n        key = arr[i]\\n        j = i - 1\\n        while j >= 0 and key < arr[j]:\\n            arr[j + 1] = arr[j]\\n            j -= 1\\n        arr[j + 1] = key\\n    return arr\";\n",
       "                var nbb_cells = Jupyter.notebook.get_cells();\n",
       "                for (var i = 0; i < nbb_cells.length; ++i) {\n",
       "                    if (nbb_cells[i].input_prompt_number == nbb_cell_id) {\n",
       "                        if (nbb_cells[i].get_text() == nbb_unformatted_code) {\n",
       "                             nbb_cells[i].set_text(nbb_formatted_code);\n",
       "                        }\n",
       "                        break;\n",
       "                    }\n",
       "                }\n",
       "            }, 500);\n",
       "            "
      ],
      "text/plain": [
       "<IPython.core.display.Javascript object>"
      ]
     },
     "metadata": {},
     "output_type": "display_data"
    }
   ],
   "source": [
    "def insertion_sort(arr):\n",
    "    length = len(arr)\n",
    "    for i in range(1, length):\n",
    "        key = arr[i]\n",
    "        j = i - 1\n",
    "        while j >= 0 and key < arr[j]:\n",
    "            arr[j + 1] = arr[j]\n",
    "            j -= 1\n",
    "        arr[j + 1] = key\n",
    "    return arr"
   ]
  },
  {
   "cell_type": "code",
   "execution_count": 4,
   "id": "senior-management",
   "metadata": {},
   "outputs": [
    {
     "name": "stdout",
     "output_type": "stream",
     "text": [
      "0.8664957237243652\n"
     ]
    },
    {
     "data": {
      "application/javascript": [
       "\n",
       "            setTimeout(function() {\n",
       "                var nbb_cell_id = 4;\n",
       "                var nbb_unformatted_code = \"start = time.time()\\nfor i in range(100):\\n    nums = generate_problem(random.randint(0,10**4))\\n    assert insertion_sort(nums)== sorted(nums)\\nend = time.time()\\nprint((end-start)/100)\";\n",
       "                var nbb_formatted_code = \"start = time.time()\\nfor i in range(100):\\n    nums = generate_problem(random.randint(0, 10**4))\\n    assert insertion_sort(nums) == sorted(nums)\\nend = time.time()\\nprint((end - start) / 100)\";\n",
       "                var nbb_cells = Jupyter.notebook.get_cells();\n",
       "                for (var i = 0; i < nbb_cells.length; ++i) {\n",
       "                    if (nbb_cells[i].input_prompt_number == nbb_cell_id) {\n",
       "                        if (nbb_cells[i].get_text() == nbb_unformatted_code) {\n",
       "                             nbb_cells[i].set_text(nbb_formatted_code);\n",
       "                        }\n",
       "                        break;\n",
       "                    }\n",
       "                }\n",
       "            }, 500);\n",
       "            "
      ],
      "text/plain": [
       "<IPython.core.display.Javascript object>"
      ]
     },
     "metadata": {},
     "output_type": "display_data"
    }
   ],
   "source": [
    "start = time.time()\n",
    "for i in range(100):\n",
    "    nums = generate_problem(random.randint(0, 10**4))\n",
    "    assert insertion_sort(nums) == sorted(nums)\n",
    "end = time.time()\n",
    "print((end - start) / 100)"
   ]
  },
  {
   "cell_type": "markdown",
   "id": "passing-career",
   "metadata": {},
   "source": [
    "## Binary Insertion Sort\n",
    "\n",
    "Binary insertion sort is a sorting algorithm which is similar to the insertion sort, but instead of using linear search to find the location where an element should be inserted, we use binary search. Thus, we reduce the comparative value of inserting a single element from O (N) to O (log N)."
   ]
  },
  {
   "cell_type": "code",
   "execution_count": 5,
   "id": "floral-intensity",
   "metadata": {},
   "outputs": [
    {
     "data": {
      "application/javascript": [
       "\n",
       "            setTimeout(function() {\n",
       "                var nbb_cell_id = 5;\n",
       "                var nbb_unformatted_code = \"def binary_insertion_sort(arr):\\n    length = len(arr)\\n    for i in range(1,length):\\n        temp = arr[i]\\n        j = bisect.bisect_left(arr[:i], temp)\\n        for k in range(i, j, -1):\\n            arr[k] = arr[k - 1]\\n        arr[j] = temp\\n    return arr\";\n",
       "                var nbb_formatted_code = \"def binary_insertion_sort(arr):\\n    length = len(arr)\\n    for i in range(1, length):\\n        temp = arr[i]\\n        j = bisect.bisect_left(arr[:i], temp)\\n        for k in range(i, j, -1):\\n            arr[k] = arr[k - 1]\\n        arr[j] = temp\\n    return arr\";\n",
       "                var nbb_cells = Jupyter.notebook.get_cells();\n",
       "                for (var i = 0; i < nbb_cells.length; ++i) {\n",
       "                    if (nbb_cells[i].input_prompt_number == nbb_cell_id) {\n",
       "                        if (nbb_cells[i].get_text() == nbb_unformatted_code) {\n",
       "                             nbb_cells[i].set_text(nbb_formatted_code);\n",
       "                        }\n",
       "                        break;\n",
       "                    }\n",
       "                }\n",
       "            }, 500);\n",
       "            "
      ],
      "text/plain": [
       "<IPython.core.display.Javascript object>"
      ]
     },
     "metadata": {},
     "output_type": "display_data"
    }
   ],
   "source": [
    "def binary_insertion_sort(arr):\n",
    "    length = len(arr)\n",
    "    for i in range(1, length):\n",
    "        temp = arr[i]\n",
    "        j = bisect.bisect_left(arr[:i], temp)\n",
    "        for k in range(i, j, -1):\n",
    "            arr[k] = arr[k - 1]\n",
    "        arr[j] = temp\n",
    "    return arr"
   ]
  },
  {
   "cell_type": "code",
   "execution_count": 6,
   "id": "timely-looking",
   "metadata": {},
   "outputs": [
    {
     "name": "stdout",
     "output_type": "stream",
     "text": [
      "0.5622109293937683\n"
     ]
    },
    {
     "data": {
      "application/javascript": [
       "\n",
       "            setTimeout(function() {\n",
       "                var nbb_cell_id = 6;\n",
       "                var nbb_unformatted_code = \"start = time.time()\\nfor i in range(100):\\n    nums = generate_problem(random.randint(0,10**4))\\n    assert binary_insertion_sort(nums)== sorted(nums)\\nend = time.time()\\nprint((end-start)/100)\";\n",
       "                var nbb_formatted_code = \"start = time.time()\\nfor i in range(100):\\n    nums = generate_problem(random.randint(0, 10**4))\\n    assert binary_insertion_sort(nums) == sorted(nums)\\nend = time.time()\\nprint((end - start) / 100)\";\n",
       "                var nbb_cells = Jupyter.notebook.get_cells();\n",
       "                for (var i = 0; i < nbb_cells.length; ++i) {\n",
       "                    if (nbb_cells[i].input_prompt_number == nbb_cell_id) {\n",
       "                        if (nbb_cells[i].get_text() == nbb_unformatted_code) {\n",
       "                             nbb_cells[i].set_text(nbb_formatted_code);\n",
       "                        }\n",
       "                        break;\n",
       "                    }\n",
       "                }\n",
       "            }, 500);\n",
       "            "
      ],
      "text/plain": [
       "<IPython.core.display.Javascript object>"
      ]
     },
     "metadata": {},
     "output_type": "display_data"
    }
   ],
   "source": [
    "start = time.time()\n",
    "for i in range(100):\n",
    "    nums = generate_problem(random.randint(0, 10**4))\n",
    "    assert binary_insertion_sort(nums) == sorted(nums)\n",
    "end = time.time()\n",
    "print((end - start) / 100)"
   ]
  }
 ],
 "metadata": {
  "kernelspec": {
   "display_name": "Python 3",
   "language": "python",
   "name": "python3"
  },
  "language_info": {
   "codemirror_mode": {
    "name": "ipython",
    "version": 3
   },
   "file_extension": ".py",
   "mimetype": "text/x-python",
   "name": "python",
   "nbconvert_exporter": "python",
   "pygments_lexer": "ipython3",
   "version": "3.9.2"
  }
 },
 "nbformat": 4,
 "nbformat_minor": 5
}
