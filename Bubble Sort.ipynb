{
 "cells": [
  {
   "cell_type": "markdown",
   "id": "provincial-invitation",
   "metadata": {},
   "source": [
    "## Bubble Sort\n",
    "\n",
    "Bubble sort, is a simple sorting algorithm that repeatedly steps through the input list element by element, comparing the current element with the one after it, swapping their values if needed. These passes through the list are repeated until no swaps had to be performed during a pass, meaning that the list has become fully sorted.\n",
    "\n",
    "Bubble sort has a worst-case and average complexity of $O(n^{2})$\n",
    "\n",
    "Like insertion sort, bubble sort is adaptive, giving it an advantage over algorithms like quicksort. This means that it may outperform those algorithms in cases where the list is already mostly sorted (having a small number of inversions), despite the fact that it has worse average-case time complexity. For example, bubble sort is O(n) on a list that is already sorted, while quicksort would still perform its entire O(n\\log n) sorting process.\n",
    "\n",
    "Bubble sort uses only a constant amount of extra space for variables. Hence, the space complexity of bubble sort is O(1). It is an in-place sorting algorithm i.e. it modifies elements of the original array to sort the given array.\n"
   ]
  },
  {
   "cell_type": "code",
   "execution_count": 1,
   "id": "friendly-mountain",
   "metadata": {},
   "outputs": [],
   "source": [
    "import random"
   ]
  },
  {
   "cell_type": "code",
   "execution_count": 2,
   "id": "wooden-sacramento",
   "metadata": {},
   "outputs": [],
   "source": [
    "def generate_problem(n):\n",
    "    return random.sample(range(-2**16,2**16),n)"
   ]
  },
  {
   "cell_type": "code",
   "execution_count": 3,
   "id": "matched-objective",
   "metadata": {},
   "outputs": [],
   "source": [
    "def bubble_sort(n):\n",
    "    length = len(n)\n",
    "    while True:\n",
    "        swapped = False\n",
    "        for j in range(1,length):\n",
    "            if n[j-1]>n[j]:\n",
    "                n[j],n[j-1] = n[j-1],n[j]\n",
    "                swapped=True\n",
    "        if swapped==False:\n",
    "            return n"
   ]
  },
  {
   "cell_type": "code",
   "execution_count": 4,
   "id": "structured-guidance",
   "metadata": {},
   "outputs": [],
   "source": [
    "def bubble_sort_optimised(n):\n",
    "    length = len(n)\n",
    "    while length>0:\n",
    "        new_length = 0\n",
    "        for j in range(1,length):\n",
    "            if n[j-1]>n[j]:\n",
    "                n[j],n[j-1] = n[j-1],n[j]\n",
    "                new_length = j\n",
    "        length = new_length\n",
    "    return n\n",
    "\n",
    "            "
   ]
  },
  {
   "cell_type": "code",
   "execution_count": 5,
   "id": "driving-keeping",
   "metadata": {},
   "outputs": [],
   "source": [
    "n = generate_problem(10000)"
   ]
  },
  {
   "cell_type": "code",
   "execution_count": 6,
   "id": "little-potter",
   "metadata": {},
   "outputs": [
    {
     "name": "stdout",
     "output_type": "stream",
     "text": [
      "640 µs ± 78.4 µs per loop (mean ± std. dev. of 7 runs, 1 loop each)\n"
     ]
    }
   ],
   "source": [
    "%timeit bubble_sort(n)"
   ]
  },
  {
   "cell_type": "code",
   "execution_count": 7,
   "id": "three-footwear",
   "metadata": {},
   "outputs": [
    {
     "name": "stdout",
     "output_type": "stream",
     "text": [
      "637 µs ± 47.3 µs per loop (mean ± std. dev. of 7 runs, 1000 loops each)\n"
     ]
    }
   ],
   "source": [
    "%timeit bubble_sort_optimised(n)"
   ]
  }
 ],
 "metadata": {
  "kernelspec": {
   "display_name": "Python 3",
   "language": "python",
   "name": "python3"
  },
  "language_info": {
   "codemirror_mode": {
    "name": "ipython",
    "version": 3
   },
   "file_extension": ".py",
   "mimetype": "text/x-python",
   "name": "python",
   "nbconvert_exporter": "python",
   "pygments_lexer": "ipython3",
   "version": "3.9.2"
  }
 },
 "nbformat": 4,
 "nbformat_minor": 5
}
